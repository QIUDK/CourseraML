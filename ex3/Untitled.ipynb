{
 "cells": [
  {
   "cell_type": "code",
   "execution_count": 19,
   "metadata": {
    "collapsed": true
   },
   "outputs": [],
   "source": [
    "import scipy.io \n",
    "import numpy as np\n",
    "import matplotlib.pyplot as plt\n",
    "from scipy.special import expit as expit"
   ]
  },
  {
   "cell_type": "code",
   "execution_count": 15,
   "metadata": {},
   "outputs": [
    {
     "name": "stdout",
     "output_type": "stream",
     "text": [
      "Theta1 has shape: (25, 401)\n",
      "Theta2 has shape: (10, 26)\n"
     ]
    }
   ],
   "source": [
    "filename = 'data/ex3weights.mat'\n",
    "mat = scipy.io.loadmat(filename)\n",
    "Theta1, Theta2 = mat['Theta1'], mat['Theta2']\n",
    "print('Theta1 has shape:', Theta1.shape)\n",
    "print('Theta2 has shape:', Theta2.shape)"
   ]
  },
  {
   "cell_type": "code",
   "execution_count": 16,
   "metadata": {},
   "outputs": [
    {
     "name": "stdout",
     "output_type": "stream",
     "text": [
      "'y' shape: (5000, 1). Unique elements in y: [ 1  2  3  4  5  6  7  8  9 10]\n",
      "'X' shape: (5000, 401). X[0] shape: (401,)\n"
     ]
    }
   ],
   "source": [
    "filename2 = 'data/ex3data1.mat'\n",
    "mat = scipy.io.loadmat(filename2)\n",
    "X, y = mat['X'], mat['y']\n",
    "X = np.insert(X, 0, 1, axis=1)\n",
    "print (\"'y' shape: %s. Unique elements in y: %s\"%(mat['y'].shape,np.unique(mat['y'])))\n",
    "print (\"'X' shape: %s. X[0] shape: %s\"%(X.shape,X[0].shape))"
   ]
  },
  {
   "cell_type": "code",
   "execution_count": 24,
   "metadata": {
    "collapsed": true
   },
   "outputs": [],
   "source": [
    "def propagateForward(row, Thetas):\n",
    "    features = row\n",
    "    for i in range(len(Thetas)):\n",
    "        theta = Thetas[i]\n",
    "        z = theta.dot(features)\n",
    "        a = expit(z)\n",
    "        if (i==len(Thetas)-1):\n",
    "            return a\n",
    "        a = np.insert(a,0,1)\n",
    "        features = a\n",
    "        "
   ]
  },
  {
   "cell_type": "code",
   "execution_count": 27,
   "metadata": {
    "collapsed": true
   },
   "outputs": [],
   "source": [
    "def predictNN(row, Thetas):\n",
    "    output = propagateForward(row, Thetas)\n",
    "    classes = range(1,11)\n",
    "    return classes[np.argmax(np.array(output))]"
   ]
  },
  {
   "cell_type": "code",
   "execution_count": 29,
   "metadata": {},
   "outputs": [
    {
     "name": "stdout",
     "output_type": "stream",
     "text": [
      "97.52\n"
     ]
    }
   ],
   "source": [
    "Thetas = [Theta1, Theta2]\n",
    "n_total = 0\n",
    "n_correct = 0\n",
    "for irow in range(len(X)):\n",
    "    n_total += 1\n",
    "    if predictNN(X[irow], Thetas) == int(y[irow]):\n",
    "        n_correct += 1\n",
    "print(100 * n_correct / n_total)"
   ]
  },
  {
   "cell_type": "code",
   "execution_count": null,
   "metadata": {
    "collapsed": true
   },
   "outputs": [],
   "source": []
  }
 ],
 "metadata": {
  "kernelspec": {
   "display_name": "Python 3",
   "language": "python",
   "name": "python3"
  },
  "language_info": {
   "codemirror_mode": {
    "name": "ipython",
    "version": 3
   },
   "file_extension": ".py",
   "mimetype": "text/x-python",
   "name": "python",
   "nbconvert_exporter": "python",
   "pygments_lexer": "ipython3",
   "version": "3.6.2"
  }
 },
 "nbformat": 4,
 "nbformat_minor": 2
}
